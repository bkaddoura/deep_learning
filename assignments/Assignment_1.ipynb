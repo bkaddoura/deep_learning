{
  "cells": [
    {
      "cell_type": "markdown",
      "id": "ba8ab56f",
      "metadata": {
        "id": "ba8ab56f"
      },
      "source": [
        "# Advanced Image Classification with ImageNet"
      ]
    },
    {
      "cell_type": "markdown",
      "source": [
        "In this graded assignment, you will be asked to develop a convolutional neural network (CNN) to classify images from the CIFAR-100 dataset. At each step, you'll be guided through the process of developing a model architecture to solve a problem. Your goal is to create a CNN that attains at least 55% accuracy on the validation set.\n",
        "\n",
        "### The CIFAR-100 Dataset\n",
        "\n",
        "The [CIFAR-100 dataset](https://www.cs.toronto.edu/~kriz/cifar.html) consists of 60000 32x32 colour images in 100 classes, with 600 images per class. There are 50000 training images and 10000 test images. The dataset is divided into five training batches and one test batch, each with 10000 images. The test batch contains exactly 1000 randomly-selected images from each class. The training batches contain the remaining images in random order, but some training batches may contain more images from one class than another. Between them, the training batches contain exactly 500 images from each class.\n",
        "\n",
        "### Tools\n",
        "\n",
        "You will use Keras with TensorFlow to develop your CNN. For this assignment, it's strongly recommended that you use a GPU to accelerate your training, or else you might find it difficult to train your network in a reasonable amount of time. If you have a computer with a GPU that you wish to use, you can follow the [TensorFlow instructions](https://www.tensorflow.org/install/) for installing TensorFlow with GPU support. Otherwise, you can use [Google Colab](https://colab.research.google.com/) to complete this assignment. Colab provides free access to GPU-enabled machines. If you run into any issues, please make sure to email us as soon as possible so that we can help you resolve them."
      ],
      "metadata": {
        "collapsed": false,
        "id": "7c630244b8fe2847"
      },
      "id": "7c630244b8fe2847"
    },
    {
      "cell_type": "markdown",
      "source": [
        "## Task 1: Data Exploration and Preprocessing (7 Marks)\n",
        "### 1a: Load and Explore the Dataset  (3 Marks)\n",
        "- Use the code below to download the dataset.\n",
        "- Explore the dataset: examine the shape of the training and test sets, the dimensions of the images, and the number of classes. Show a few examples from the training set."
      ],
      "metadata": {
        "collapsed": false,
        "id": "fab62988ece1528d"
      },
      "id": "fab62988ece1528d"
    },
    {
      "cell_type": "code",
      "outputs": [
        {
          "output_type": "stream",
          "name": "stdout",
          "text": [
            "Downloading data from https://www.cs.toronto.edu/~kriz/cifar-100-python.tar.gz\n",
            "169001437/169001437 [==============================] - 11s 0us/step\n"
          ]
        }
      ],
      "source": [
        "from keras.datasets import cifar100\n",
        "\n",
        "# Load the CIFAR-100 dataset\n",
        "(x_train, y_train), (x_test, y_test) = cifar100.load_data(label_mode='fine')"
      ],
      "metadata": {
        "is_executing": true,
        "ExecuteTime": {
          "start_time": "2024-01-26T17:04:08.432758Z"
        },
        "id": "8820fcdc5ae52ae2",
        "outputId": "204c3288-37fa-4879-9588-db5e8ba60e39",
        "colab": {
          "base_uri": "https://localhost:8080/"
        }
      },
      "id": "8820fcdc5ae52ae2",
      "execution_count": 1
    },
    {
      "cell_type": "code",
      "outputs": [
        {
          "output_type": "execute_result",
          "data": {
            "text/plain": [
              "(50000, 32, 32, 3)"
            ]
          },
          "metadata": {},
          "execution_count": 2
        }
      ],
      "source": [
        "x_train.shape"
      ],
      "metadata": {
        "id": "a386b4072078138f",
        "outputId": "ef6d9232-f18a-4056-ac00-0213370305c9",
        "colab": {
          "base_uri": "https://localhost:8080/"
        }
      },
      "id": "a386b4072078138f",
      "execution_count": 2
    },
    {
      "cell_type": "code",
      "source": [
        "y_train.shape"
      ],
      "metadata": {
        "id": "GrrZImJbAJbj",
        "outputId": "3ba735ba-b74f-4e2f-bbad-2077161d38bd",
        "colab": {
          "base_uri": "https://localhost:8080/"
        }
      },
      "id": "GrrZImJbAJbj",
      "execution_count": 3,
      "outputs": [
        {
          "output_type": "execute_result",
          "data": {
            "text/plain": [
              "(50000, 1)"
            ]
          },
          "metadata": {},
          "execution_count": 3
        }
      ]
    },
    {
      "cell_type": "code",
      "source": [
        "x_test.shape"
      ],
      "metadata": {
        "id": "W1lPm5mWAMWY",
        "outputId": "b19cf9a6-128d-412e-91c1-01384418b134",
        "colab": {
          "base_uri": "https://localhost:8080/"
        }
      },
      "id": "W1lPm5mWAMWY",
      "execution_count": 5,
      "outputs": [
        {
          "output_type": "execute_result",
          "data": {
            "text/plain": [
              "(10000, 32, 32, 3)"
            ]
          },
          "metadata": {},
          "execution_count": 5
        }
      ]
    },
    {
      "cell_type": "code",
      "source": [
        "y_test.shape"
      ],
      "metadata": {
        "id": "J26qOkL-APdA",
        "outputId": "31f3ce25-d8f6-4c26-be4e-0309ddfb1f9e",
        "colab": {
          "base_uri": "https://localhost:8080/"
        }
      },
      "id": "J26qOkL-APdA",
      "execution_count": 6,
      "outputs": [
        {
          "output_type": "execute_result",
          "data": {
            "text/plain": [
              "(10000, 1)"
            ]
          },
          "metadata": {},
          "execution_count": 6
        }
      ]
    },
    {
      "cell_type": "markdown",
      "source": [
        "### 1b: Data Preprocessing (4 Marks)\n",
        "- With the data downloaded, it's time to preprocess it. Start by normalizing the images so that they all have pixel values in the range [0, 1].\n",
        "- Next, convert the labels to one-hot encoded vectors.\n",
        "- Finally, split the training set into training and validation sets. Use 80% of the training set for training and the remaining 20% for validation."
      ],
      "metadata": {
        "collapsed": false,
        "id": "ad49291da3a819ea"
      },
      "id": "ad49291da3a819ea"
    },
    {
      "cell_type": "code",
      "outputs": [],
      "source": [
        "# Your code here"
      ],
      "metadata": {
        "id": "b18c10172fa72d0c"
      },
      "id": "b18c10172fa72d0c",
      "execution_count": null
    },
    {
      "cell_type": "markdown",
      "source": [
        "## Task 2: Model Development (8 Marks)\n",
        "### Task 2a: Create a Baseline CNN Model (5 Marks)\n",
        "- Design a CNN architecture. Your architecture should use convolutional layers, max pooling layers, and dense layers. You can use any number of layers, and you can experiment with different numbers of filters, filter sizes, strides, padding, etc. The design doesn't need to be perfect, but it should be unique to you.\n",
        "- Print out the model summary."
      ],
      "metadata": {
        "collapsed": false,
        "id": "5993757f08c89db7"
      },
      "id": "5993757f08c89db7"
    },
    {
      "cell_type": "code",
      "outputs": [],
      "source": [
        "from keras.models import Sequential\n",
        "from keras.layers import Conv2D, MaxPooling2D, Flatten, Dense\n",
        "\n",
        "# Your code here"
      ],
      "metadata": {
        "id": "c9edafdaf887b8d5"
      },
      "id": "c9edafdaf887b8d5",
      "execution_count": null
    },
    {
      "cell_type": "markdown",
      "source": [
        "### Task 2b: Compile the model (3 Marks)\n",
        "\n",
        "- Select an appropriate loss function and optimizer for your model. These can be ones we have looked at already, or they can be different.\n",
        "- Briefly explain your choices (one or two sentences each).\n",
        "- <b>Loss function:</b> ______\n",
        "- <b>Optimizer:</b> ______"
      ],
      "metadata": {
        "collapsed": false,
        "id": "546324c007c73db5"
      },
      "id": "546324c007c73db5"
    },
    {
      "cell_type": "code",
      "outputs": [],
      "source": [
        "from keras import optimizers\n",
        "\n",
        "# Your code here"
      ],
      "metadata": {
        "id": "ab39f4ba69d684e9"
      },
      "id": "ab39f4ba69d684e9",
      "execution_count": null
    },
    {
      "cell_type": "markdown",
      "source": [
        "## Task 3: Model Training and Evaluation (10 Marks)\n",
        "### Task 3a: Train the Model (3 Marks)\n",
        "\n",
        "- Train your model for an appropriate number of epochs. Explain your choice of the number of epochs used - you can change this number before submitting your assignment.\n",
        "- Use a batch size of 32.\n",
        "- Use the validation set for validation."
      ],
      "metadata": {
        "collapsed": false,
        "id": "653fba928413b9f6"
      },
      "id": "653fba928413b9f6"
    },
    {
      "cell_type": "code",
      "outputs": [],
      "source": [
        "# Your code here"
      ],
      "metadata": {
        "id": "9de74f274ad08546"
      },
      "id": "9de74f274ad08546",
      "execution_count": null
    },
    {
      "cell_type": "markdown",
      "source": [
        "### Task 3b: Accuracy and other relevant metrics on the test set (3 Marks)\n",
        "\n",
        "- Report the accuracy of your model on the test set.\n",
        "- While accuracy is a good metric, there are many other ways to numerically evaluate a model. Report at least one other metric, and explain what it measures and how it is calculated.\n",
        "\n",
        "- <b>Accuracy:</b> ______\n",
        "- <b>Other metric:</b> ______\n",
        "- <b>Reason for selection:</b> _____\n",
        "- <b>Value of metric:</b> ______\n",
        "- <b>Interpretation of metric value:</b> ______"
      ],
      "metadata": {
        "collapsed": false,
        "id": "b48615c26b99d2e9"
      },
      "id": "b48615c26b99d2e9"
    },
    {
      "cell_type": "code",
      "outputs": [],
      "source": [
        "# Your code here"
      ],
      "metadata": {
        "ExecuteTime": {
          "end_time": "2024-01-26T17:49:39.016880Z",
          "start_time": "2024-01-26T17:49:39.012100Z"
        },
        "id": "f670665fda92fb0e"
      },
      "id": "f670665fda92fb0e",
      "execution_count": null
    },
    {
      "cell_type": "markdown",
      "source": [
        "### Task 3c: Visualize the model's learning (4 Marks)\n",
        "\n",
        "- Plot the training accuracy and validation accuracy with respect to epochs.\n",
        "- Select an image that the model correctly classified in the test set, and an image that the model incorrectly classified in the test set. Plot the images and report the model's classification probabilities for each.\n",
        "- Briefly discuss the results. What do the plots show? Do the results make sense? What do the classification probabilities indicate?"
      ],
      "metadata": {
        "collapsed": false,
        "id": "58d2d836d4e8ce99"
      },
      "id": "58d2d836d4e8ce99"
    },
    {
      "cell_type": "code",
      "outputs": [],
      "source": [
        "# Your code here"
      ],
      "metadata": {
        "ExecuteTime": {
          "end_time": "2024-01-26T17:50:59.733968Z",
          "start_time": "2024-01-26T17:50:59.730635Z"
        },
        "id": "c5b214475a496ca5"
      },
      "id": "c5b214475a496ca5",
      "execution_count": null
    },
    {
      "cell_type": "markdown",
      "source": [
        "## Task 4: Model Enhancement (10 Marks)\n",
        "### Task 4a: Implementation of at least one advanced technique (3 Marks)\n",
        "\n",
        "- Now it's time to improve your model. Implement at least one technique to improve your model's performance. You can use any of the techniques we have covered in class, or you can use a technique that we haven't covered. If you need inspiration, you can refer to the [Keras documentation](https://keras.io/).\n",
        "- Explain the technique you used and why you chose it.\n",
        "- If you used a technique that requires tuning, explain how you selected the values for the hyperparameters."
      ],
      "metadata": {
        "collapsed": false,
        "id": "a648758ebea0561d"
      },
      "id": "a648758ebea0561d"
    },
    {
      "cell_type": "code",
      "outputs": [],
      "source": [
        "# Your code here"
      ],
      "metadata": {
        "id": "f3659ac83122567f"
      },
      "id": "f3659ac83122567f",
      "execution_count": null
    },
    {
      "cell_type": "markdown",
      "source": [
        "### Task 4b: Evaluation of the enhanced model (4 Marks)\n",
        "\n",
        "- Re-train your model using the same number of epochs as before.\n",
        "- Compare the accuracy and other selected metric on the test set to the results you obtained before.\n",
        "- As before, plot the training accuracy and validation accuracy with respect to epochs, and select an image that the model correctly classified in the test set, and an image that the model incorrectly classified in the test set. Plot the images and report the model's classification probabilities for each."
      ],
      "metadata": {
        "collapsed": false,
        "id": "d9467a483a1dd5d3"
      },
      "id": "d9467a483a1dd5d3"
    },
    {
      "cell_type": "code",
      "outputs": [],
      "source": [
        "# Your code here"
      ],
      "metadata": {
        "id": "7c4701b36dc8fc55"
      },
      "id": "7c4701b36dc8fc55",
      "execution_count": null
    },
    {
      "cell_type": "markdown",
      "source": [
        "### Task 4c: Discussion of the results (3 Marks)\n",
        "\n",
        "- Briefly discuss the results.\n",
        "- Did the model's performance improve?\n",
        "- Why do you think this is?\n",
        "- Do you think there is room for further improvement? Why or why not?\n",
        "- What other techniques might you try in the future?\n",
        "- Your answer should be no more than 200 words.\n",
        "\n",
        "# Your answer here"
      ],
      "metadata": {
        "collapsed": false,
        "id": "eadfc848700215e8"
      },
      "id": "eadfc848700215e8"
    }
  ],
  "metadata": {
    "kernelspec": {
      "name": "python3",
      "language": "python",
      "display_name": "Python 3 (ipykernel)"
    },
    "colab": {
      "provenance": []
    }
  },
  "nbformat": 4,
  "nbformat_minor": 5
}