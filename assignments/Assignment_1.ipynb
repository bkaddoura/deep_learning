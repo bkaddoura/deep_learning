{
  "cells": [
    {
      "cell_type": "markdown",
      "id": "ba8ab56f",
      "metadata": {
        "id": "ba8ab56f"
      },
      "source": [
        "# Advanced Image Classification with CIFAR-100"
      ]
    },
    {
      "cell_type": "markdown",
      "source": [
        "In this graded assignment, you will be asked to develop a convolutional neural network (CNN) to classify images from the CIFAR-100 dataset. At each step, you'll be guided through the process of developing a model architecture to solve a problem. Your goal is to create a CNN that attains at least 30% accuracy on the validation set.\n",
        "\n",
        "### The CIFAR-100 Dataset\n",
        "\n",
        "The [CIFAR-100 dataset](https://www.cs.toronto.edu/~kriz/cifar.html) consists of 60000 32x32 colour images in 100 'fine' classes and 20 'coarse' classes. We will be looking at the 'coarse' classes.\n",
        "\n",
        "### Tools\n",
        "\n",
        "You will use Keras with TensorFlow to develop your CNN. For this assignment, it's strongly recommended that you use a GPU to accelerate your training, or else you might find it difficult to train your network in a reasonable amount of time. If you have a computer with a GPU that you wish to use, you can follow the [TensorFlow instructions](https://www.tensorflow.org/install/) for installing TensorFlow with GPU support. Otherwise, you can use [Google Colab](https://colab.research.google.com/) to complete this assignment. Colab provides free access to GPU-enabled machines. If you run into any issues, please make sure to email us as soon as possible so that we can help you resolve them."
      ],
      "metadata": {
        "collapsed": false,
        "id": "7c630244b8fe2847"
      },
      "id": "7c630244b8fe2847"
    },
    {
      "cell_type": "markdown",
      "source": [
        "## Task 1: Data Exploration and Preprocessing (7 Marks)\n",
        "### 1a: Load and Explore the Dataset  (3 Marks)\n",
        "- Use the code below to download the dataset.\n",
        "- Explore the dataset: examine the shape of the training and test sets, the dimensions of the images, and the number of classes. Show a few examples from the training set."
      ],
      "metadata": {
        "collapsed": false,
        "id": "fab62988ece1528d"
      },
      "id": "fab62988ece1528d"
    },
    {
      "cell_type": "code",
      "source": [
        "from keras.datasets import cifar100\n",
        "\n",
        "# Load the CIFAR-100 dataset\n",
        "(x_train, y_train), (x_test, y_test) = cifar100.load_data(label_mode='coarse')"
      ],
      "metadata": {
        "is_executing": true,
        "id": "8820fcdc5ae52ae2",
        "outputId": "1d6d7296-66a8-49cc-e751-4907d8fdd7a5",
        "colab": {
          "base_uri": "https://localhost:8080/"
        }
      },
      "id": "8820fcdc5ae52ae2",
      "outputs": [
        {
          "output_type": "stream",
          "name": "stdout",
          "text": [
            "Downloading data from https://www.cs.toronto.edu/~kriz/cifar-100-python.tar.gz\n",
            "169001437/169001437 [==============================] - 4s 0us/step\n"
          ]
        }
      ],
      "execution_count": 1
    },
    {
      "metadata": {
        "id": "b8770ba6ba10ab1f",
        "outputId": "60d046fa-b472-4892-e606-f51a7bde22e1",
        "colab": {
          "base_uri": "https://localhost:8080/"
        }
      },
      "cell_type": "code",
      "source": [
        "# Names of the classes, for your utility\n",
        "class_names = ['aquatic mammals', 'fish', 'flowers', 'food containers', 'fruit and vegetables', 'household electrical devices', 'household furniture', 'insects', 'large carnivores', 'large man-made outdoor things', 'large natural outdoor scenes', 'large omnivores and herbivores', 'medium-sized mammals', 'non-insect invertebrates', 'people', 'reptiles', 'small mammals', 'trees', 'vehicles 1', 'vehicles 2']\n",
        "print(len(class_names))"
      ],
      "id": "b8770ba6ba10ab1f",
      "outputs": [
        {
          "output_type": "stream",
          "name": "stdout",
          "text": [
            "20\n"
          ]
        }
      ],
      "execution_count": 2
    },
    {
      "cell_type": "code",
      "source": [
        "x_train.shape"
      ],
      "metadata": {
        "id": "a386b4072078138f",
        "outputId": "4c3d2838-7fc8-4830-e795-ea58ea49564c",
        "colab": {
          "base_uri": "https://localhost:8080/"
        }
      },
      "id": "a386b4072078138f",
      "outputs": [
        {
          "output_type": "execute_result",
          "data": {
            "text/plain": [
              "(50000, 32, 32, 3)"
            ]
          },
          "metadata": {},
          "execution_count": 6
        }
      ],
      "execution_count": 6
    },
    {
      "cell_type": "code",
      "source": [
        "y_train.shape"
      ],
      "metadata": {
        "id": "3wISRXcd9lqX",
        "outputId": "d27c4959-99fe-452a-8231-0d3d273d4cc9",
        "colab": {
          "base_uri": "https://localhost:8080/"
        }
      },
      "id": "3wISRXcd9lqX",
      "execution_count": 8,
      "outputs": [
        {
          "output_type": "execute_result",
          "data": {
            "text/plain": [
              "(50000, 1)"
            ]
          },
          "metadata": {},
          "execution_count": 8
        }
      ]
    },
    {
      "cell_type": "code",
      "source": [
        "x_test.shape"
      ],
      "metadata": {
        "id": "wT6Rey2D9rFT",
        "outputId": "54c3d1d1-9788-423f-9e66-a0ddc95b015e",
        "colab": {
          "base_uri": "https://localhost:8080/"
        }
      },
      "id": "wT6Rey2D9rFT",
      "execution_count": 9,
      "outputs": [
        {
          "output_type": "execute_result",
          "data": {
            "text/plain": [
              "(10000, 32, 32, 3)"
            ]
          },
          "metadata": {},
          "execution_count": 9
        }
      ]
    },
    {
      "cell_type": "code",
      "source": [
        "y_test.shape"
      ],
      "metadata": {
        "id": "3xjUiXvl9wRj",
        "outputId": "de3eb79a-24a2-443b-b645-75c0403913e3",
        "colab": {
          "base_uri": "https://localhost:8080/"
        }
      },
      "id": "3xjUiXvl9wRj",
      "execution_count": 10,
      "outputs": [
        {
          "output_type": "execute_result",
          "data": {
            "text/plain": [
              "(10000, 1)"
            ]
          },
          "metadata": {},
          "execution_count": 10
        }
      ]
    },
    {
      "cell_type": "markdown",
      "source": [
        "### 1b: Data Preprocessing (4 Marks)\n",
        "- With the data downloaded, it's time to preprocess it. Start by normalizing the images so that they all have pixel values in the range [0, 1].\n",
        "- Next, convert the labels to one-hot encoded vectors.\n",
        "- Finally, split the training set into training and validation sets. Use 80% of the training set for training and the remaining 20% for validation."
      ],
      "metadata": {
        "collapsed": false,
        "id": "ad49291da3a819ea"
      },
      "id": "ad49291da3a819ea"
    },
    {
      "cell_type": "code",
      "source": [
        "# Your code here"
      ],
      "metadata": {
        "id": "b18c10172fa72d0c"
      },
      "id": "b18c10172fa72d0c",
      "outputs": [],
      "execution_count": null
    },
    {
      "cell_type": "markdown",
      "source": [
        "## Task 2: Model Development (8 Marks)\n",
        "### Task 2a: Create a Baseline CNN Model (5 Marks)\n",
        "- Design a CNN architecture. Your architecture should use convolutional layers, max pooling layers, and dense layers. You can use any number of layers, and you can experiment with different numbers of filters, filter sizes, strides, padding, etc. The design doesn't need to be perfect, but it should be unique to you.\n",
        "- Print out the model summary."
      ],
      "metadata": {
        "collapsed": false,
        "id": "5993757f08c89db7"
      },
      "id": "5993757f08c89db7"
    },
    {
      "cell_type": "code",
      "source": [
        "from keras.models import Sequential\n",
        "from keras.layers import Conv2D, MaxPooling2D, Flatten, Dense\n",
        "\n",
        "# Your code here"
      ],
      "metadata": {
        "id": "c9edafdaf887b8d5"
      },
      "id": "c9edafdaf887b8d5",
      "outputs": [],
      "execution_count": null
    },
    {
      "cell_type": "markdown",
      "source": [
        "### Task 2b: Compile the model (3 Marks)\n",
        "\n",
        "- Select an appropriate loss function and optimizer for your model. These can be ones we have looked at already, or they can be different.\n",
        "- Briefly explain your choices (one or two sentences each).\n",
        "- <b>Loss function:</b> ______\n",
        "- <b>Optimizer:</b> ______"
      ],
      "metadata": {
        "collapsed": false,
        "id": "546324c007c73db5"
      },
      "id": "546324c007c73db5"
    },
    {
      "cell_type": "code",
      "source": [
        "from keras import optimizers\n",
        "\n",
        "# Your code here"
      ],
      "metadata": {
        "id": "ab39f4ba69d684e9"
      },
      "id": "ab39f4ba69d684e9",
      "outputs": [],
      "execution_count": null
    },
    {
      "cell_type": "markdown",
      "source": [
        "## Task 3: Model Training and Evaluation (10 Marks)\n",
        "### Task 3a: Train the Model (3 Marks)\n",
        "\n",
        "- Train your model for an appropriate number of epochs. Explain your choice of the number of epochs used - you can change this number before submitting your assignment.\n",
        "- Use a batch size of 32.\n",
        "- Use the validation set for validation."
      ],
      "metadata": {
        "collapsed": false,
        "id": "653fba928413b9f6"
      },
      "id": "653fba928413b9f6"
    },
    {
      "cell_type": "code",
      "source": [
        "# Your code here"
      ],
      "metadata": {
        "id": "9de74f274ad08546"
      },
      "id": "9de74f274ad08546",
      "outputs": [],
      "execution_count": null
    },
    {
      "cell_type": "markdown",
      "source": [
        "### Task 3b: Accuracy and other relevant metrics on the test set (3 Marks)\n",
        "\n",
        "- Report the accuracy of your model on the test set.\n",
        "- While accuracy is a good metric, there are many other ways to numerically evaluate a model. Report at least one other metric, and explain what it measures and how it is calculated.\n",
        "\n",
        "- <b>Accuracy:</b> ______\n",
        "- <b>Other metric:</b> ______\n",
        "- <b>Reason for selection:</b> _____\n",
        "- <b>Value of metric:</b> ______\n",
        "- <b>Interpretation of metric value:</b> ______"
      ],
      "metadata": {
        "collapsed": false,
        "id": "b48615c26b99d2e9"
      },
      "id": "b48615c26b99d2e9"
    },
    {
      "cell_type": "code",
      "source": [
        "# Your code here"
      ],
      "metadata": {
        "id": "f670665fda92fb0e"
      },
      "id": "f670665fda92fb0e",
      "outputs": [],
      "execution_count": null
    },
    {
      "cell_type": "markdown",
      "source": [
        "### Task 3c: Visualize the model's learning (4 Marks)\n",
        "\n",
        "- Plot the training accuracy and validation accuracy with respect to epochs.\n",
        "- Select an image that the model correctly classified in the test set, and an image that the model incorrectly classified in the test set. Plot the images and report the model's classification probabilities for each.\n",
        "- Briefly discuss the results. What do the plots show? Do the results make sense? What do the classification probabilities indicate?"
      ],
      "metadata": {
        "collapsed": false,
        "id": "58d2d836d4e8ce99"
      },
      "id": "58d2d836d4e8ce99"
    },
    {
      "cell_type": "code",
      "source": [
        "# Your code here"
      ],
      "metadata": {
        "id": "c5b214475a496ca5"
      },
      "id": "c5b214475a496ca5",
      "outputs": [],
      "execution_count": null
    },
    {
      "cell_type": "markdown",
      "source": [
        "## Task 4: Model Enhancement (10 Marks)\n",
        "### Task 4a: Implementation of at least one advanced technique (3 Marks)\n",
        "\n",
        "- Now it's time to improve your model. Implement at least one technique to improve your model's performance. You can use any of the techniques we have covered in class, or you can use a technique that we haven't covered. If you need inspiration, you can refer to the [Keras documentation](https://keras.io/).\n",
        "- Explain the technique you used and why you chose it.\n",
        "- If you used a technique that requires tuning, explain how you selected the values for the hyperparameters."
      ],
      "metadata": {
        "collapsed": false,
        "id": "a648758ebea0561d"
      },
      "id": "a648758ebea0561d"
    },
    {
      "cell_type": "code",
      "source": [
        "# Your code here"
      ],
      "metadata": {
        "id": "f3659ac83122567f"
      },
      "id": "f3659ac83122567f",
      "outputs": [],
      "execution_count": null
    },
    {
      "cell_type": "markdown",
      "source": [
        "### Task 4b: Evaluation of the enhanced model (4 Marks)\n",
        "\n",
        "- Re-train your model using the same number of epochs as before.\n",
        "- Compare the accuracy and other selected metric on the test set to the results you obtained before.\n",
        "- As before, plot the training accuracy and validation accuracy with respect to epochs, and select an image that the model correctly classified in the test set, and an image that the model incorrectly classified in the test set. Plot the images and report the model's classification probabilities for each."
      ],
      "metadata": {
        "collapsed": false,
        "id": "d9467a483a1dd5d3"
      },
      "id": "d9467a483a1dd5d3"
    },
    {
      "cell_type": "code",
      "source": [
        "# Your code here"
      ],
      "metadata": {
        "id": "7c4701b36dc8fc55"
      },
      "id": "7c4701b36dc8fc55",
      "outputs": [],
      "execution_count": null
    },
    {
      "cell_type": "markdown",
      "source": [
        "### Task 4c: Discussion of the results (3 Marks)\n",
        "\n",
        "- Briefly discuss the results.\n",
        "- Did the model's performance improve?\n",
        "- Why do you think this is?\n",
        "- Do you think there is room for further improvement? Why or why not?\n",
        "- What other techniques might you try in the future?\n",
        "- Your answer should be no more than 200 words.\n",
        "\n",
        "# Your answer here"
      ],
      "metadata": {
        "collapsed": false,
        "id": "eadfc848700215e8"
      },
      "id": "eadfc848700215e8"
    }
  ],
  "metadata": {
    "kernelspec": {
      "name": "python3",
      "language": "python",
      "display_name": "Python 3 (ipykernel)"
    },
    "colab": {
      "provenance": []
    }
  },
  "nbformat": 4,
  "nbformat_minor": 5
}